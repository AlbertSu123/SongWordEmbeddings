{
 "cells": [
  {
   "cell_type": "code",
   "execution_count": 1,
   "metadata": {},
   "outputs": [],
   "source": [
    "import shutil \n",
    "from pathlib import Path "
   ]
  },
  {
   "cell_type": "code",
   "execution_count": 7,
   "metadata": {},
   "outputs": [],
   "source": [
    "filenames = []\n",
    "for year in range(1960, 2020, 10):\n",
    "    filenames.append(Path(r'C:\\Users\\alber\\Desktop\\haasneuroeconresearch\\NLP\\GloVe-1.2\\merged' + str(year)))\n",
    "    newfile = \"mergedall\""
   ]
  },
  {
   "cell_type": "code",
   "execution_count": 8,
   "metadata": {},
   "outputs": [
    {
     "name": "stdout",
     "output_type": "stream",
     "text": [
      "C:\\Users\\alber\\Desktop\\haasneuroeconresearch\\NLP\\GloVe-1.2\\merged1970\n"
     ]
    }
   ],
   "source": []
  },
  {
   "cell_type": "code",
   "execution_count": 9,
   "metadata": {},
   "outputs": [
    {
     "name": "stdout",
     "output_type": "stream",
     "text": [
      "\n",
      " was merged successfully all\n"
     ]
    }
   ],
   "source": [
    "with open(newfile, \"wb\") as wfd: \n",
    "    for f in filenames: \n",
    "        with open(f, \"rb\") as fd: \n",
    "            shutil.copyfileobj(fd, wfd, 1024 * 1024 * 10)\n",
    "print(\"\\n was merged successfully all\" )"
   ]
  },
  {
   "cell_type": "code",
   "execution_count": null,
   "metadata": {},
   "outputs": [],
   "source": []
  }
 ],
 "metadata": {
  "kernelspec": {
   "display_name": "Python 3",
   "language": "python",
   "name": "python3"
  },
  "language_info": {
   "codemirror_mode": {
    "name": "ipython",
    "version": 3
   },
   "file_extension": ".py",
   "mimetype": "text/x-python",
   "name": "python",
   "nbconvert_exporter": "python",
   "pygments_lexer": "ipython3",
   "version": "3.7.3"
  }
 },
 "nbformat": 4,
 "nbformat_minor": 2
}
