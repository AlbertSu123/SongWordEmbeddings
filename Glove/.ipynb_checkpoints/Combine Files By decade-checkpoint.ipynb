{
 "cells": [
  {
   "cell_type": "code",
   "execution_count": 25,
   "metadata": {},
   "outputs": [],
   "source": [
    "import shutil \n",
    "from pathlib import Path "
   ]
  },
  {
   "cell_type": "code",
   "execution_count": 26,
   "metadata": {},
   "outputs": [
    {
     "name": "stdout",
     "output_type": "stream",
     "text": [
      "\n",
      " was merged successfully1960\n",
      "\n",
      " was merged successfully1970\n",
      "\n",
      " was merged successfully1980\n",
      "\n",
      " was merged successfully1990\n",
      "\n",
      " was merged successfully2000\n",
      "\n",
      " was merged successfully2010\n"
     ]
    }
   ],
   "source": [
    "for year in range(1960, 2019, 10):\n",
    "    filenames = []\n",
    "    for i in range(10):\n",
    "        filenames.append(Path(r'C:\\Users\\alber\\Desktop\\haasneuroeconresearch\\NLP\\GloVe-1.2\\cleaned' + str(year) ))\n",
    "    newfile = \"merged\" + str(year)\n",
    "    \n",
    "    with open(newfile, \"wb\") as wfd: \n",
    "        for f in filenames: \n",
    "            with open(f, \"rb\") as fd: \n",
    "                shutil.copyfileobj(fd, wfd, 1024 * 1024 * 10)\n",
    "    print(\"\\n was merged successfully\" + str(year))"
   ]
  },
  {
   "cell_type": "code",
   "execution_count": null,
   "metadata": {},
   "outputs": [],
   "source": []
  }
 ],
 "metadata": {
  "kernelspec": {
   "display_name": "Python 3",
   "language": "python",
   "name": "python3"
  },
  "language_info": {
   "codemirror_mode": {
    "name": "ipython",
    "version": 3
   },
   "file_extension": ".py",
   "mimetype": "text/x-python",
   "name": "python",
   "nbconvert_exporter": "python",
   "pygments_lexer": "ipython3",
   "version": "3.7.3"
  }
 },
 "nbformat": 4,
 "nbformat_minor": 2
}
